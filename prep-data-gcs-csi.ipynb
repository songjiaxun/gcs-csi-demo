{
 "cells": [
  {
   "cell_type": "code",
   "execution_count": null,
   "id": "8f35deb0",
   "metadata": {},
   "outputs": [],
   "source": [
    "%cd ~/gcs_bucket/"
   ]
  },
  {
   "cell_type": "code",
   "execution_count": null,
   "id": "96f253f2-35c7-416d-ad52-290291072708",
   "metadata": {},
   "outputs": [],
   "source": [
    "from imutils import paths\n",
    "from tqdm import tqdm\n",
    "import pandas as pd \n",
    "import numpy as np\n",
    "import shutil\n",
    "import cv2\n",
    "import os"
   ]
  },
  {
   "cell_type": "code",
   "execution_count": null,
   "id": "88d175ec-d260-4c4c-a46a-1d9fb77227a3",
   "metadata": {},
   "outputs": [],
   "source": [
    "# Open the .txt file which have names of training videos\n",
    "f = open(\"ucfTrainTestlist/trainlist01.txt\", \"r\")\n",
    "temp = f.read()\n",
    "videos = temp.split('\\n')\n",
    "\n",
    "# Create a dataframe having video names\n",
    "train = pd.DataFrame()\n",
    "train['video_name'] = videos\n",
    "train = train[:-1]\n",
    "train.head()"
   ]
  },
  {
   "cell_type": "code",
   "execution_count": null,
   "id": "576359e6-f399-46eb-8eb1-52c0ea87097c",
   "metadata": {},
   "outputs": [],
   "source": [
    "# Open the .txt file which have names of test videos\n",
    "with open(\"ucfTrainTestlist/testlist01.txt\", \"r\") as f:\n",
    "    temp = f.read()\n",
    "videos = temp.split(\"\\n\")\n",
    "\n",
    "# Create a dataframe having video names\n",
    "test = pd.DataFrame()\n",
    "test[\"video_name\"] = videos\n",
    "test = test[:-1]\n",
    "test.head()"
   ]
  },
  {
   "cell_type": "code",
   "execution_count": null,
   "id": "68cd8e98-eee8-47dc-b45e-c2d1972d2038",
   "metadata": {},
   "outputs": [],
   "source": [
    "def extract_tag(video_path):\n",
    "    return video_path.split(\"/\")[0]\n",
    "\n",
    "def separate_video_name(video_name):\n",
    "    return video_name.split(\"/\")[1]\n",
    "\n",
    "def rectify_video_name(video_name):\n",
    "    return video_name.split(\" \")[0]\n",
    "\n",
    "def move_videos(df, output_dir):\n",
    "    if not os.path.exists(output_dir):\n",
    "        os.mkdir(output_dir)\n",
    "    for i in tqdm(range(df.shape[0])):\n",
    "        videoFile = df['video_name'][i].split(\"/\")[-1]\n",
    "        videoPath = os.path.join(\"data\", videoFile)\n",
    "        shutil.copy2(videoPath, output_dir)\n",
    "    print()\n",
    "    print(f\"Total videos: {len(os.listdir(output_dir))}\")"
   ]
  },
  {
   "cell_type": "code",
   "execution_count": null,
   "id": "00e0ed48-086e-4877-af3a-4936278b6d0b",
   "metadata": {},
   "outputs": [],
   "source": [
    "train[\"tag\"] = train[\"video_name\"].apply(extract_tag)\n",
    "train[\"video_name\"] = train[\"video_name\"].apply(separate_video_name)\n",
    "train.head()"
   ]
  },
  {
   "cell_type": "code",
   "execution_count": null,
   "id": "93a357b7-17f4-4da7-99c6-942e1b230bba",
   "metadata": {},
   "outputs": [],
   "source": [
    "train[\"video_name\"] = train[\"video_name\"].apply(rectify_video_name)\n",
    "train.head()"
   ]
  },
  {
   "cell_type": "code",
   "execution_count": null,
   "id": "d6dd827e-ffe0-4109-8dfe-d4fa18e46e12",
   "metadata": {},
   "outputs": [],
   "source": [
    "test[\"tag\"] = test[\"video_name\"].apply(extract_tag)\n",
    "test[\"video_name\"] = test[\"video_name\"].apply(separate_video_name)\n",
    "test.head()"
   ]
  },
  {
   "cell_type": "code",
   "execution_count": null,
   "id": "ef10fbea-e720-4e19-9659-c2983af1b700",
   "metadata": {},
   "outputs": [],
   "source": [
    "topNActs = train[\"tag\"].value_counts().reset_index()[\"index\"].tolist()\n",
    "train_new = train[train[\"tag\"].isin(topNActs)]\n",
    "test_new = test[test[\"tag\"].isin(topNActs)]\n",
    "train_new.shape, test_new.shape"
   ]
  },
  {
   "cell_type": "code",
   "execution_count": null,
   "id": "2a54206d-df4b-4a6d-96a0-d5c0c16ef0ad",
   "metadata": {},
   "outputs": [],
   "source": [
    "train_new = train_new.reset_index(drop=True)\n",
    "test_new = test_new.reset_index(drop=True)\n",
    "move_videos(train_new, \"train\")\n",
    "move_videos(test_new, \"test\")\n",
    "train_new.to_csv(\"train.csv\", index=False)\n",
    "test_new.to_csv(\"test.csv\", index=False)"
   ]
  }
 ],
 "metadata": {
  "kernelspec": {
   "display_name": "Python 3",
   "language": "python",
   "name": "python3"
  },
  "language_info": {
   "codemirror_mode": {
    "name": "ipython",
    "version": 3
   },
   "file_extension": ".py",
   "mimetype": "text/x-python",
   "name": "python",
   "nbconvert_exporter": "python",
   "pygments_lexer": "ipython3",
   "version": "3.7.10"
  }
 },
 "nbformat": 4,
 "nbformat_minor": 5
}
